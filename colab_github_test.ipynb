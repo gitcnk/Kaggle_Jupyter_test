{
  "nbformat": 4,
  "nbformat_minor": 0,
  "metadata": {
    "colab": {
      "provenance": [],
      "authorship_tag": "ABX9TyOMSt7PI9gOzcpRa7kvcv6v",
      "include_colab_link": true
    },
    "kernelspec": {
      "name": "ir",
      "display_name": "R"
    },
    "language_info": {
      "name": "R"
    }
  },
  "cells": [
    {
      "cell_type": "markdown",
      "metadata": {
        "id": "view-in-github",
        "colab_type": "text"
      },
      "source": [
        "<a href=\"https://colab.research.google.com/github/gitcnk/Kaggle_Jupyter_test/blob/master/colab_github_test.ipynb\" target=\"_parent\"><img src=\"https://colab.research.google.com/assets/colab-badge.svg\" alt=\"Open In Colab\"/></a>"
      ]
    },
    {
      "cell_type": "code",
      "execution_count": 2,
      "metadata": {
        "id": "hFFdfKcg_W2O",
        "colab": {
          "base_uri": "https://localhost:8080/"
        },
        "outputId": "698916b9-78de-4373-e036-9614ec8081c1"
      },
      "outputs": [
        {
          "output_type": "stream",
          "name": "stderr",
          "text": [
            "── \u001b[1mAttaching core tidyverse packages\u001b[22m ──────────────────────── tidyverse 2.0.0 ──\n",
            "\u001b[32m✔\u001b[39m \u001b[34mdplyr    \u001b[39m 1.1.4     \u001b[32m✔\u001b[39m \u001b[34mreadr    \u001b[39m 2.1.5\n",
            "\u001b[32m✔\u001b[39m \u001b[34mforcats  \u001b[39m 1.0.0     \u001b[32m✔\u001b[39m \u001b[34mstringr  \u001b[39m 1.5.1\n",
            "\u001b[32m✔\u001b[39m \u001b[34mggplot2  \u001b[39m 3.5.1     \u001b[32m✔\u001b[39m \u001b[34mtibble   \u001b[39m 3.2.1\n",
            "\u001b[32m✔\u001b[39m \u001b[34mlubridate\u001b[39m 1.9.3     \u001b[32m✔\u001b[39m \u001b[34mtidyr    \u001b[39m 1.3.1\n",
            "\u001b[32m✔\u001b[39m \u001b[34mpurrr    \u001b[39m 1.0.2     \n",
            "── \u001b[1mConflicts\u001b[22m ────────────────────────────────────────── tidyverse_conflicts() ──\n",
            "\u001b[31m✖\u001b[39m \u001b[34mdplyr\u001b[39m::\u001b[32mfilter()\u001b[39m masks \u001b[34mstats\u001b[39m::filter()\n",
            "\u001b[31m✖\u001b[39m \u001b[34mdplyr\u001b[39m::\u001b[32mlag()\u001b[39m    masks \u001b[34mstats\u001b[39m::lag()\n",
            "\u001b[36mℹ\u001b[39m Use the conflicted package (\u001b[3m\u001b[34m<http://conflicted.r-lib.org/>\u001b[39m\u001b[23m) to force all conflicts to become errors\n"
          ]
        }
      ],
      "source": [
        "library(tidyverse)"
      ]
    },
    {
      "cell_type": "code",
      "source": [
        "names(diamonds)"
      ],
      "metadata": {
        "colab": {
          "base_uri": "https://localhost:8080/",
          "height": 34
        },
        "id": "MEWkREaFBif9",
        "outputId": "9abcf6af-56f1-4fdb-b979-176d2136a63d"
      },
      "execution_count": 3,
      "outputs": [
        {
          "output_type": "display_data",
          "data": {
            "text/html": [
              "<style>\n",
              ".list-inline {list-style: none; margin:0; padding: 0}\n",
              ".list-inline>li {display: inline-block}\n",
              ".list-inline>li:not(:last-child)::after {content: \"\\00b7\"; padding: 0 .5ex}\n",
              "</style>\n",
              "<ol class=list-inline><li>'carat'</li><li>'cut'</li><li>'color'</li><li>'clarity'</li><li>'depth'</li><li>'table'</li><li>'price'</li><li>'x'</li><li>'y'</li><li>'z'</li></ol>\n"
            ],
            "text/markdown": "1. 'carat'\n2. 'cut'\n3. 'color'\n4. 'clarity'\n5. 'depth'\n6. 'table'\n7. 'price'\n8. 'x'\n9. 'y'\n10. 'z'\n\n\n",
            "text/latex": "\\begin{enumerate*}\n\\item 'carat'\n\\item 'cut'\n\\item 'color'\n\\item 'clarity'\n\\item 'depth'\n\\item 'table'\n\\item 'price'\n\\item 'x'\n\\item 'y'\n\\item 'z'\n\\end{enumerate*}\n",
            "text/plain": [
              " [1] \"carat\"   \"cut\"     \"color\"   \"clarity\" \"depth\"   \"table\"   \"price\"  \n",
              " [8] \"x\"       \"y\"       \"z\"      "
            ]
          },
          "metadata": {}
        }
      ]
    },
    {
      "cell_type": "code",
      "source": [
        "diamonds %>%\n",
        "  sample_n(100) %>%\n",
        "  ggplot() +\n",
        "  aes(x = carat, y = price) +\n",
        "  geom_point()"
      ],
      "metadata": {
        "colab": {
          "base_uri": "https://localhost:8080/",
          "height": 437
        },
        "id": "pxDdiG6nBAKG",
        "outputId": "6157b880-4412-45ef-8150-2cfba2ec626f"
      },
      "execution_count": 4,
      "outputs": [
        {
          "output_type": "display_data",
          "data": {
            "text/plain": [
              "plot without title"
            ],
            "image/png": "[encoded data removed]"
          },
          "metadata": {
            "image/png": {
              "width": 420,
              "height": 420
            }
          }
        }
      ]
    },
    {
      "cell_type": "code",
      "source": [
        "source('https://raw.githubusercontent.com/gitcnk/Data/master/Stat254/ggavplot.R')\n",
        "#install.packages('car')\n",
        "\n"
      ],
      "metadata": {
        "id": "wsE4wMKSC2n1"
      },
      "execution_count": 5,
      "outputs": []
    },
    {
      "cell_type": "code",
      "source": [
        "house_data1 <- read.csv('https://raw.githubusercontent.com/gitcnk/Data/master/Stat152/house_data1.csv')\n",
        "house_data2 <- read.csv('https://raw.githubusercontent.com/gitcnk/Data/master/Stat152/house_data2.csv')\n",
        "\n",
        "\n",
        "m1 <- lm(Price ~ Area + Bedrooms, data = house_data1)\n",
        "m2 <- lm(Price ~ Area + Bedrooms, data = house_data2)\n"
      ],
      "metadata": {
        "id": "lVY7dcRRDQhQ"
      },
      "execution_count": 6,
      "outputs": []
    },
    {
      "cell_type": "code",
      "source": [
        "summary(m1)"
      ],
      "metadata": {
        "colab": {
          "base_uri": "https://localhost:8080/",
          "height": 366
        },
        "id": "S1Kn4uXt73vj",
        "outputId": "e70ad92c-e9ed-416b-d72b-e876a7eccf93"
      },
      "execution_count": 7,
      "outputs": [
        {
          "output_type": "display_data",
          "data": {
            "text/plain": [
              "\n",
              "Call:\n",
              "lm(formula = Price ~ Area + Bedrooms, data = house_data1)\n",
              "\n",
              "Residuals:\n",
              "    Min      1Q  Median      3Q     Max \n",
              "-113997  -37853    8977   32636  124914 \n",
              "\n",
              "Coefficients:\n",
              "              Estimate Std. Error t value Pr(>|t|)    \n",
              "(Intercept) -36279.793  20143.186  -1.801   0.0757 .  \n",
              "Area            84.198      9.779   8.610 7.45e-13 ***\n",
              "Bedrooms     20629.178   4902.676   4.208 6.99e-05 ***\n",
              "---\n",
              "Signif. codes:  0 ‘***’ 0.001 ‘**’ 0.01 ‘*’ 0.05 ‘.’ 0.1 ‘ ’ 1\n",
              "\n",
              "Residual standard error: 49450 on 76 degrees of freedom\n",
              "Multiple R-squared:  0.6655,\tAdjusted R-squared:  0.6567 \n",
              "F-statistic: 75.59 on 2 and 76 DF,  p-value: < 2.2e-16\n"
            ]
          },
          "metadata": {}
        }
      ]
    },
    {
      "cell_type": "code",
      "source": [
        "library(car)\n",
        "ggAVPLOTS(m1, LINE = 'Yes')"
      ],
      "metadata": {
        "colab": {
          "base_uri": "https://localhost:8080/",
          "height": 110
        },
        "id": "ZIHoe3dVDXkr",
        "outputId": "096befcf-152f-4409-b8aa-1442b515e7af"
      },
      "execution_count": 10,
      "outputs": [
        {
          "output_type": "error",
          "ename": "ERROR",
          "evalue": "Error in library(car): there is no package called ‘car’\n",
          "traceback": [
            "Error in library(car): there is no package called ‘car’\nTraceback:\n",
            "1. stop(packageNotFoundError(package, lib.loc, sys.call()))"
          ]
        }
      ]
    },
    {
      "cell_type": "markdown",
      "source": [
        "# This is a new section"
      ],
      "metadata": {
        "id": "RArbFnnP9J7n"
      }
    }
  ]
}